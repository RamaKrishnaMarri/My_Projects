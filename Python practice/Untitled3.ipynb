{
 "cells": [
  {
   "cell_type": "code",
   "execution_count": 1,
   "id": "9ae0341a",
   "metadata": {},
   "outputs": [
    {
     "name": "stdout",
     "output_type": "stream",
     "text": [
      "262x193\n"
     ]
    }
   ],
   "source": [
    "# importing the module\n",
    "import PIL\n",
    "from PIL import Image\n",
    "\n",
    "# loading the image\n",
    "img = PIL.Image.open(\"tajm.jpg\")\n",
    "\n",
    "# fetching the dimensions\n",
    "wid, hgt = img.size\n",
    "\n",
    "# displaying the dimensions\n",
    "print(str(wid) + \"x\" + str(hgt))\n"
   ]
  },
  {
   "cell_type": "code",
   "execution_count": null,
   "id": "d91d72c2",
   "metadata": {},
   "outputs": [],
   "source": []
  }
 ],
 "metadata": {
  "kernelspec": {
   "display_name": "Python 3 (ipykernel)",
   "language": "python",
   "name": "python3"
  },
  "language_info": {
   "codemirror_mode": {
    "name": "ipython",
    "version": 3
   },
   "file_extension": ".py",
   "mimetype": "text/x-python",
   "name": "python",
   "nbconvert_exporter": "python",
   "pygments_lexer": "ipython3",
   "version": "3.9.7"
  }
 },
 "nbformat": 4,
 "nbformat_minor": 5
}
