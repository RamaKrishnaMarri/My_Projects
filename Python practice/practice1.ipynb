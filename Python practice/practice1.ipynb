{
 "cells": [
  {
   "cell_type": "code",
   "execution_count": 28,
   "id": "04e6971e",
   "metadata": {},
   "outputs": [],
   "source": [
    "mul = lambda x,y: x**y"
   ]
  },
  {
   "cell_type": "code",
   "execution_count": 29,
   "id": "48e0f4f4",
   "metadata": {},
   "outputs": [
    {
     "data": {
      "text/plain": [
       "128"
      ]
     },
     "execution_count": 29,
     "metadata": {},
     "output_type": "execute_result"
    }
   ],
   "source": [
    "mul(2,7)"
   ]
  },
  {
   "cell_type": "code",
   "execution_count": 30,
   "id": "1b004c95",
   "metadata": {},
   "outputs": [],
   "source": [
    "points2d = [(1,2),(15,1),(5,-1),(10,4)]"
   ]
  },
  {
   "cell_type": "code",
   "execution_count": 31,
   "id": "4eb5fec2",
   "metadata": {},
   "outputs": [],
   "source": [
    "points2d_sort = sorted(points2d)"
   ]
  },
  {
   "cell_type": "code",
   "execution_count": 32,
   "id": "13ef2702",
   "metadata": {},
   "outputs": [
    {
     "data": {
      "text/plain": [
       "[(1, 2), (15, 1), (5, -1), (10, 4)]"
      ]
     },
     "execution_count": 32,
     "metadata": {},
     "output_type": "execute_result"
    }
   ],
   "source": [
    "points2d"
   ]
  },
  {
   "cell_type": "code",
   "execution_count": 33,
   "id": "b8a79d3e",
   "metadata": {},
   "outputs": [
    {
     "data": {
      "text/plain": [
       "[(1, 2), (5, -1), (10, 4), (15, 1)]"
      ]
     },
     "execution_count": 33,
     "metadata": {},
     "output_type": "execute_result"
    }
   ],
   "source": [
    "points2d_sort"
   ]
  },
  {
   "cell_type": "code",
   "execution_count": 42,
   "id": "6c75ffb0",
   "metadata": {},
   "outputs": [
    {
     "data": {
      "text/plain": [
       "[2, 4, 6]"
      ]
     },
     "execution_count": 42,
     "metadata": {},
     "output_type": "execute_result"
    }
   ],
   "source": [
    "a = [1,2,3,4,5,6]\n",
    "c = [x for x in a if x%2==0]\n",
    "c"
   ]
  },
  {
   "cell_type": "code",
   "execution_count": 47,
   "id": "a86dabab",
   "metadata": {},
   "outputs": [
    {
     "data": {
      "text/plain": [
       "720"
      ]
     },
     "execution_count": 47,
     "metadata": {},
     "output_type": "execute_result"
    }
   ],
   "source": [
    "from functools import reduce\n",
    "b=reduce(lambda x,y:x*y,a)\n",
    "b"
   ]
  },
  {
   "cell_type": "code",
   "execution_count": 48,
   "id": "fcfebb33",
   "metadata": {},
   "outputs": [],
   "source": [
    "#Exceptions"
   ]
  },
  {
   "cell_type": "code",
   "execution_count": 54,
   "id": "d1ce8aa3",
   "metadata": {},
   "outputs": [],
   "source": [
    "try:\n",
    "    a=5/0\n",
    "except Exception as e:\n",
    "\n",
    "    print(e)"
   ]
  },
  {
   "cell_type": "code",
   "execution_count": null,
   "id": "18c014c7",
   "metadata": {},
   "outputs": [],
   "source": []
  },
  {
   "cell_type": "code",
   "execution_count": null,
   "id": "7063bb8f",
   "metadata": {},
   "outputs": [],
   "source": []
  }
 ],
 "metadata": {
  "kernelspec": {
   "display_name": "Python 3 (ipykernel)",
   "language": "python",
   "name": "python3"
  },
  "language_info": {
   "codemirror_mode": {
    "name": "ipython",
    "version": 3
   },
   "file_extension": ".py",
   "mimetype": "text/x-python",
   "name": "python",
   "nbconvert_exporter": "python",
   "pygments_lexer": "ipython3",
   "version": "3.9.7"
  }
 },
 "nbformat": 4,
 "nbformat_minor": 5
}
