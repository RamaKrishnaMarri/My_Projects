{
 "cells": [
  {
   "cell_type": "code",
   "execution_count": 3,
   "id": "c0b348c3",
   "metadata": {},
   "outputs": [],
   "source": [
    "import cv2"
   ]
  },
  {
   "cell_type": "code",
   "execution_count": 4,
   "id": "c139af58",
   "metadata": {},
   "outputs": [],
   "source": [
    "# Function to extract frames\n",
    "def FrameCapture(path):\n",
    "      \n",
    "    # Path to video file\n",
    "    vidObj = cv2.VideoCapture(path)\n",
    "  \n",
    "    # Used as counter variable\n",
    "    count = 0\n",
    "  \n",
    "    # checks whether frames were extracted\n",
    "    success = 1"
   ]
  },
  {
   "cell_type": "code",
   "execution_count": 6,
   "id": "1f3e4184",
   "metadata": {},
   "outputs": [
    {
     "ename": "NameError",
     "evalue": "name 'success' is not defined",
     "output_type": "error",
     "traceback": [
      "\u001b[1;31m---------------------------------------------------------------------------\u001b[0m",
      "\u001b[1;31mNameError\u001b[0m                                 Traceback (most recent call last)",
      "\u001b[1;32mC:\\Users\\RAMAKR~1\\AppData\\Local\\Temp/ipykernel_10232/3620800349.py\u001b[0m in \u001b[0;36m<module>\u001b[1;34m\u001b[0m\n\u001b[1;32m----> 1\u001b[1;33m \u001b[1;32mwhile\u001b[0m \u001b[0msuccess\u001b[0m\u001b[1;33m:\u001b[0m\u001b[1;33m\u001b[0m\u001b[1;33m\u001b[0m\u001b[0m\n\u001b[0m\u001b[0;32m      2\u001b[0m \u001b[1;33m\u001b[0m\u001b[0m\n\u001b[0;32m      3\u001b[0m        \u001b[1;31m# vidObj object calls read\u001b[0m\u001b[1;33m\u001b[0m\u001b[1;33m\u001b[0m\u001b[0m\n\u001b[0;32m      4\u001b[0m        \u001b[1;31m# function extract frames\u001b[0m\u001b[1;33m\u001b[0m\u001b[1;33m\u001b[0m\u001b[0m\n\u001b[0;32m      5\u001b[0m        \u001b[0msuccess\u001b[0m\u001b[1;33m,\u001b[0m \u001b[0mimage\u001b[0m \u001b[1;33m=\u001b[0m \u001b[0mvidObj\u001b[0m\u001b[1;33m.\u001b[0m\u001b[0mread\u001b[0m\u001b[1;33m(\u001b[0m\u001b[1;33m)\u001b[0m\u001b[1;33m\u001b[0m\u001b[1;33m\u001b[0m\u001b[0m\n",
      "\u001b[1;31mNameError\u001b[0m: name 'success' is not defined"
     ]
    }
   ],
   "source": [
    " while success:\n",
    "  \n",
    "        # vidObj object calls read\n",
    "        # function extract frames\n",
    "        success, image = vidObj.read()\n",
    "  \n",
    "        # Saves the frames with frame-count\n",
    "        cv2.imwrite(\"frame%d.jpg\" % count, image)\n",
    "  \n",
    "        count += 1\n",
    "    \n",
    "# Driver Code\n",
    "if __name__ == '__main__':\n",
    "  \n",
    "    # Calling the function\n",
    "    FrameCapture(\"sam\")"
   ]
  },
  {
   "cell_type": "code",
   "execution_count": null,
   "id": "a186f5e2",
   "metadata": {},
   "outputs": [],
   "source": []
  }
 ],
 "metadata": {
  "kernelspec": {
   "display_name": "Python 3 (ipykernel)",
   "language": "python",
   "name": "python3"
  },
  "language_info": {
   "codemirror_mode": {
    "name": "ipython",
    "version": 3
   },
   "file_extension": ".py",
   "mimetype": "text/x-python",
   "name": "python",
   "nbconvert_exporter": "python",
   "pygments_lexer": "ipython3",
   "version": "3.9.7"
  }
 },
 "nbformat": 4,
 "nbformat_minor": 5
}
