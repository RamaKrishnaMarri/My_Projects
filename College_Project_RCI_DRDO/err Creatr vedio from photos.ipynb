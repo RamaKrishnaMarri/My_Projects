{
 "cells": [
  {
   "cell_type": "code",
   "execution_count": 1,
   "id": "71e1379b",
   "metadata": {},
   "outputs": [],
   "source": [
    "import os\n",
    "import cv2 \n",
    "from PIL import Image"
   ]
  },
  {
   "cell_type": "code",
   "execution_count": 2,
   "id": "131f5aaf",
   "metadata": {},
   "outputs": [
    {
     "name": "stdout",
     "output_type": "stream",
     "text": [
      "C:\\Users\\Ramakrishna\\College_Project_RCI_DRDO\n"
     ]
    }
   ],
   "source": [
    "print(os.getcwd()) "
   ]
  },
  {
   "cell_type": "raw",
   "id": "873c60d6",
   "metadata": {},
   "source": []
  },
  {
   "cell_type": "code",
   "execution_count": 3,
   "id": "ed6de288",
   "metadata": {},
   "outputs": [],
   "source": [
    "path = r\"C:\\Users\\Ramakrishna\\College_Project_RCI_DRDO\""
   ]
  },
  {
   "cell_type": "code",
   "execution_count": 4,
   "id": "ca2df22f",
   "metadata": {},
   "outputs": [],
   "source": [
    "os.chdir(path)"
   ]
  },
  {
   "cell_type": "code",
   "execution_count": 5,
   "id": "8e7b9bf3",
   "metadata": {},
   "outputs": [
    {
     "name": "stdout",
     "output_type": "stream",
     "text": [
      "67\n"
     ]
    }
   ],
   "source": [
    "mean_height = 0\n",
    "mean_width = 0\n",
    "  \n",
    "num_of_images = len(os.listdir('.'))\n",
    "print(num_of_images)"
   ]
  },
  {
   "cell_type": "code",
   "execution_count": 6,
   "id": "74365d18",
   "metadata": {},
   "outputs": [
    {
     "ename": "NameError",
     "evalue": "name 'file' is not defined",
     "output_type": "error",
     "traceback": [
      "\u001b[1;31m---------------------------------------------------------------------------\u001b[0m",
      "\u001b[1;31mNameError\u001b[0m                                 Traceback (most recent call last)",
      "\u001b[1;32m~\\AppData\\Local\\Temp\\ipykernel_5096\\4145847440.py\u001b[0m in \u001b[0;36m<module>\u001b[1;34m\u001b[0m\n\u001b[1;32m----> 1\u001b[1;33m \u001b[0mfp\u001b[0m \u001b[1;33m=\u001b[0m \u001b[0mImage\u001b[0m\u001b[1;33m.\u001b[0m\u001b[0mopen\u001b[0m\u001b[1;33m(\u001b[0m\u001b[0mos\u001b[0m\u001b[1;33m.\u001b[0m\u001b[0mpath\u001b[0m\u001b[1;33m.\u001b[0m\u001b[0mjoin\u001b[0m\u001b[1;33m(\u001b[0m\u001b[0mpath\u001b[0m\u001b[1;33m,\u001b[0m \u001b[0mfile\u001b[0m\u001b[1;33m)\u001b[0m\u001b[1;33m)\u001b[0m\u001b[1;33m\u001b[0m\u001b[1;33m\u001b[0m\u001b[0m\n\u001b[0m",
      "\u001b[1;31mNameError\u001b[0m: name 'file' is not defined"
     ]
    }
   ],
   "source": [
    "fp = Image.open(os.path.join(path, file))"
   ]
  },
  {
   "cell_type": "code",
   "execution_count": null,
   "id": "460ebc3e",
   "metadata": {},
   "outputs": [],
   "source": [
    "files = os.listdir('.')\n",
    "for file in files:\n",
    "    im = Image.open(os.path.join(path, file))\n",
    "    width,height = im.size\n",
    "    mean_width += width\n",
    "    mean_height += height\n",
    "    # im.show() "
   ]
  },
  {
   "cell_type": "code",
   "execution_count": null,
   "id": "a6018fc2",
   "metadata": {},
   "outputs": [],
   "source": []
  },
  {
   "cell_type": "code",
   "execution_count": null,
   "id": "fda8ad02",
   "metadata": {},
   "outputs": [],
   "source": [
    "# Finding the mean height and width of all images.\n",
    "# This is required because the video frame needs\n",
    "# to be set with same width and height. Otherwise\n",
    "# images not equal to that width height will not get \n",
    "# embedded into the video\n",
    "mean_width = int(mean_width / num_of_images)\n",
    "mean_height = int(mean_height / num_of_images)\n",
    "  \n",
    "# print(mean_height)\n",
    "# print(mean_width)\n",
    "\n",
    "# Resizing of the images to give\n",
    "# them same width and height \n",
    "for file in os.listdir('.'):\n",
    "    if file.endswith(\".jpg\") or file.endswith(\".jpeg\") or file.endswith(\"png\"):\n",
    "        # opening image using PIL Image\n",
    "        im = Image.open(os.path.join(path, file)) \n",
    "   \n",
    "        # im.size includes the height and width of image\n",
    "        width, height = im.size   \n",
    "        print(width, height)\n",
    "  \n",
    "        # resizing \n",
    "        imResize = im.resize((mean_width, mean_height), Image.ANTIALIAS) \n",
    "        imResize.save( file, 'JPEG', quality = 95) # setting quality\n",
    "        # printing each resized image name\n",
    "        print(im.filename.split('\\\\')[-1], \" is resized\""
   ]
  },
  {
   "cell_type": "code",
   "execution_count": null,
   "id": "5f46d87b",
   "metadata": {},
   "outputs": [],
   "source": [
    "# Video Generating function\n",
    "def generate_video():    \n",
    "    image_folder = '.' # make sure to use your folder\n",
    "    video_name = 'mygeneratedvideo.avi'\n",
    "    os.chdir(\"C:\\Users\\Ramakrishna\\College_Project_RCI_DRDO\")\n",
    "      \n",
    "    images = [img for img in os.listdir(image_folder)\n",
    "              if img.endswith(\".jpg\") or\n",
    "              img.endswith(\".jpeg\") or\n",
    "              img.endswith(\"png\")]\n",
    "     \n",
    "    # Array images should only consider\n",
    "    # the image files ignoring others if any\n",
    "    print(images) \n",
    "\n",
    "    frame = cv2.imread(os.path.join(image_folder, images[0]))\n",
    "  \n",
    "    # setting the frame width, height width\n",
    "    # the width, height of first image\n",
    "    height, width, layers = frame.shape  \n",
    "  \n",
    "    video = cv2.VideoWriter(video_name, 0, 1, (width, height)) \n",
    "  \n",
    "    # Appending the images to the video one by one\n",
    "    for image in images: \n",
    "        video.write(cv2.imread(os.path.join(image_folder, image))) \n",
    "      \n",
    "    # Deallocating memories taken for window creation\n",
    "    cv2.destroyAllWindows() \n",
    "    video.release()  # releasing the video generated\n",
    "  \n",
    "  \n",
    "# Calling the generate_video function\n",
    "generate_video()"
   ]
  },
  {
   "cell_type": "code",
   "execution_count": null,
   "id": "c30f4b4c",
   "metadata": {},
   "outputs": [],
   "source": []
  },
  {
   "cell_type": "code",
   "execution_count": null,
   "id": "b057f949",
   "metadata": {},
   "outputs": [],
   "source": []
  }
 ],
 "metadata": {
  "kernelspec": {
   "display_name": "Python 3 (ipykernel)",
   "language": "python",
   "name": "python3"
  },
  "language_info": {
   "codemirror_mode": {
    "name": "ipython",
    "version": 3
   },
   "file_extension": ".py",
   "mimetype": "text/x-python",
   "name": "python",
   "nbconvert_exporter": "python",
   "pygments_lexer": "ipython3",
   "version": "3.9.12"
  }
 },
 "nbformat": 4,
 "nbformat_minor": 5
}
