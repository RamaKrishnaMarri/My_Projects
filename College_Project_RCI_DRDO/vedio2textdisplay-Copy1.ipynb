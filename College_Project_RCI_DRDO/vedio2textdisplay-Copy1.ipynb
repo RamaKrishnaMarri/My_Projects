{
 "cells": [
  {
   "cell_type": "code",
   "execution_count": 1,
   "id": "8898e1c3",
   "metadata": {},
   "outputs": [],
   "source": [
    "import pytesseract\n",
    "import cv2\n",
    "import easyocr"
   ]
  },
  {
   "cell_type": "code",
   "execution_count": 2,
   "id": "3d436091",
   "metadata": {},
   "outputs": [
    {
     "name": "stderr",
     "output_type": "stream",
     "text": [
      "Using CPU. Note: This module is much faster with a GPU.\n"
     ]
    }
   ],
   "source": [
    "reader = easyocr.Reader(['en'],gpu=False)"
   ]
  },
  {
   "cell_type": "code",
   "execution_count": 4,
   "id": "4c08a771",
   "metadata": {},
   "outputs": [
    {
     "name": "stderr",
     "output_type": "stream",
     "text": [
      "Warning: Ignoring XDG_SESSION_TYPE=wayland on Gnome. Use QT_QPA_PLATFORM=wayland to run on Wayland anyway.\n"
     ]
    }
   ],
   "source": [
    "font_scale = 1.5\n",
    "font = cv2.FONT_HERSHEY_SIMPLEX\n",
    "cap = cv2.VideoCapture(\"SampleVideo.mp4\")\n",
    "nframes = int(cap.get(cv2.CAP_PROP_FRAME_COUNT))\n",
    "flag = 1\n",
    "if not cap.isOpened():\n",
    "    cap = cv2.VideoCapture(0)\n",
    "if not cap.isOpened():\n",
    "    raise IOError(\"can not open\")    \n",
    "cntr = 0\n",
    "frame_count = 0\n",
    "while frame_count < nframes-1:\n",
    "    ret,frame = cap.read()\n",
    "    frame_count = cap.get(cv2.CAP_PROP_POS_FRAMES); # retrieves the current frame number\n",
    "    cntr = cntr+1;\n",
    "    if((cntr%50)==0):\n",
    "        imgH,imgW,_ = frame.shape\n",
    "        x1,y1,w1,h1, = 0,0,imgH,imgW\n",
    "        img2char = pytesseract.image_to_string(frame)\n",
    "        \n",
    "        imgbox = pytesseract.image_to_boxes(frame)\n",
    "        for boxes in imgbox.splitlines():\n",
    "            boxes = boxes.split(' ')\n",
    "            x,y,w,h = int(boxes[1]),int(boxes[2]),int(boxes[3]),int(boxes[4])\n",
    "            #image = cv2.rectangle(image, start_point, end_point, color, thickness)\n",
    "            cv2.rectangle(frame, (x,imgH-y), (w,imgH-h), (0,0,255) ,3)\n",
    "            \n",
    "        cv2.putText(frame,img2char,(x1 + int(w1/50), y1 + int(h1/50)), cv2.FONT_HERSHEY_SIMPLEX, 0.7,(0,0,255), 2)\n",
    "      \n",
    "        cv2.imshow('Text detection tutorial', frame)\n",
    "        if cv2.waitKey(2) & 0xFF == ord('q'):\n",
    "            break\n",
    "        #print(frame_count, nframes)\n",
    "        \n",
    "cap.release()\n",
    "cv2.destroyAllWindows()\n",
    "    "
   ]
  },
  {
   "cell_type": "code",
   "execution_count": null,
   "id": "5e701c02",
   "metadata": {},
   "outputs": [],
   "source": []
  },
  {
   "cell_type": "code",
   "execution_count": null,
   "id": "0c1e38d1",
   "metadata": {},
   "outputs": [],
   "source": []
  }
 ],
 "metadata": {
  "kernelspec": {
   "display_name": "Python 3 (ipykernel)",
   "language": "python",
   "name": "python3"
  },
  "language_info": {
   "codemirror_mode": {
    "name": "ipython",
    "version": 3
   },
   "file_extension": ".py",
   "mimetype": "text/x-python",
   "name": "python",
   "nbconvert_exporter": "python",
   "pygments_lexer": "ipython3",
   "version": "3.10.6"
  }
 },
 "nbformat": 4,
 "nbformat_minor": 5
}
