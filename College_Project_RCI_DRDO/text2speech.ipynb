{
 "cells": [
  {
   "cell_type": "code",
   "execution_count": 1,
   "id": "47c1a23e",
   "metadata": {},
   "outputs": [
    {
     "name": "stdout",
     "output_type": "stream",
     "text": [
      "Text Converted Successfully \n"
     ]
    }
   ],
   "source": [
    "from gtts import gTTS\n",
    " \n",
    "tts = gTTS(text=\"welcome to my website\", lang='en')\n",
    "tts.save(\"record14.wav\")\n",
    "print(\"Text Converted Successfully \")"
   ]
  },
  {
   "cell_type": "code",
   "execution_count": null,
   "id": "ff3a8da0",
   "metadata": {},
   "outputs": [],
   "source": []
  }
 ],
 "metadata": {
  "kernelspec": {
   "display_name": "Python 3 (ipykernel)",
   "language": "python",
   "name": "python3"
  },
  "language_info": {
   "codemirror_mode": {
    "name": "ipython",
    "version": 3
   },
   "file_extension": ".py",
   "mimetype": "text/x-python",
   "name": "python",
   "nbconvert_exporter": "python",
   "pygments_lexer": "ipython3",
   "version": "3.10.6"
  }
 },
 "nbformat": 4,
 "nbformat_minor": 5
}
