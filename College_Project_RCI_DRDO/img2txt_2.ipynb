{
 "cells": [
  {
   "cell_type": "code",
   "execution_count": 1,
   "id": "d33fc706",
   "metadata": {},
   "outputs": [],
   "source": [
    "import pytesseract\n",
    "import cv2\n",
    "import matplotlib.pyplot as plt"
   ]
  },
  {
   "cell_type": "code",
   "execution_count": 2,
   "id": "35719ffb",
   "metadata": {},
   "outputs": [],
   "source": [
    "pytesseract.pytesseract.tesseract_cmd=r'C:\\Program Files\\Tesseract-OCR\\tesseract'"
   ]
  },
  {
   "cell_type": "code",
   "execution_count": null,
   "id": "099beace",
   "metadata": {},
   "outputs": [],
   "source": [
    "img=cv2.imread('2022-08-17 (1).png')\n",
    "cv2.imshow('sample', img)\n",
    "plt.imshow(img)\n",
    "cv2.waitKey(0)\n",
    "cv2.destroyAllWindows()\n",
    "text = pytesseract.image_to_string(img)\n"
   ]
  },
  {
   "cell_type": "code",
   "execution_count": 4,
   "id": "b9d4b7b8",
   "metadata": {},
   "outputs": [
    {
     "name": "stdout",
     "output_type": "stream",
     "text": [
      "DIGITAL DISRUPTION\n",
      "WITH AUGMENTED DATA\n",
      "SCIENCE IS ESSENTIAL FOR\n",
      "\n",
      "ENERGY 4.0\n",
      "\n",
      "RAMKRISHANA MARRI\n",
      "#21-27-21\n",
      "\n",
      "\n"
     ]
    }
   ],
   "source": [
    "print(text)"
   ]
  },
  {
   "cell_type": "code",
   "execution_count": null,
   "id": "8c46c335",
   "metadata": {},
   "outputs": [],
   "source": []
  }
 ],
 "metadata": {
  "kernelspec": {
   "display_name": "Python 3 (ipykernel)",
   "language": "python",
   "name": "python3"
  },
  "language_info": {
   "codemirror_mode": {
    "name": "ipython",
    "version": 3
   },
   "file_extension": ".py",
   "mimetype": "text/x-python",
   "name": "python",
   "nbconvert_exporter": "python",
   "pygments_lexer": "ipython3",
   "version": "3.9.12"
  }
 },
 "nbformat": 4,
 "nbformat_minor": 5
}
