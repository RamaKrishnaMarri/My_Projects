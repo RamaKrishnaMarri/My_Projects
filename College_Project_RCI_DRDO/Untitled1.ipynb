{
 "cells": [
  {
   "cell_type": "code",
   "execution_count": 0,
   "id": "f0da4b55",
   "metadata": {},
   "outputs": [
    {
     "name": "stderr",
     "output_type": "stream",
     "text": [
      "\n",
      "KeyboardInterrupt\n",
      "\n"
     ]
    }
   ],
   "source": [
    "import numpy as np\n",
    "import cv2"
   ]
  },
  {
   "cell_type": "code",
   "execution_count": null,
   "id": "e00f3858",
   "metadata": {},
   "outputs": [],
   "source": [
    "cap = cv2.VideoCapture(0)\n",
    "count = 0\n",
    "\n",
    "while True:\n",
    "   # Capture frame-by-frame\n",
    "   ret, frame = cap.read()\n",
    "\n",
    "   # Our operations on the frame come here\n",
    "   gray = cv2.cvtColor(frame, cv2.COLOR_BGR2GRAY)\n",
    "   cv2.imwrite(\"frame%d.jpg\" % ret, frame)     # save frame as JPEG file\n",
    "   count +=1\n",
    "\n",
    "   # Display the resulting frame\n",
    "   cv2.imshow('frame',gray)\n",
    "   if cv2.waitKey(10):\n",
    "      break"
   ]
  }
 ],
 "metadata": {
  "kernelspec": {
   "display_name": "Python 3 (ipykernel)",
   "language": "python",
   "name": "python3"
  },
  "language_info": {
   "codemirror_mode": {
    "name": "ipython",
    "version": 3
   },
   "file_extension": ".py",
   "mimetype": "text/x-python",
   "name": "python",
   "nbconvert_exporter": "python",
   "pygments_lexer": "ipython3",
   "version": "3.9.12"
  }
 },
 "nbformat": 4,
 "nbformat_minor": 5
}
