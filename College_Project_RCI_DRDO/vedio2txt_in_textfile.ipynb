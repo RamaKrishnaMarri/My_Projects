{
 "cells": [
  {
   "cell_type": "code",
   "execution_count": 1,
   "id": "29a89599",
   "metadata": {},
   "outputs": [],
   "source": [
    "import cv2\n",
    "import pytesseract\n",
    "import matplotlib.pyplot as plt"
   ]
  },
  {
   "cell_type": "code",
   "execution_count": 2,
   "id": "15494b36",
   "metadata": {},
   "outputs": [],
   "source": [
    "font_scale = 1.5\n",
    "font = cv2.FONT_HERSHEY_SIMPLEX\n",
    "cap = cv2.VideoCapture(\"SampleVideo.mp4\")\n",
    "nframes = int(cap.get(cv2.CAP_PROP_FRAME_COUNT))\n",
    "if not cap.isOpened():\n",
    "    cap = cv2.VideoCapture(0)\n",
    "if not cap.isOpened():\n",
    "    raise IOError(\"can not open\")\n",
    "    \n",
    "cntr = 0\n",
    "frame_count = 0\n",
    "while frame_count < nframes-1:\n",
    "    ret,frame = cap.read()\n",
    "    frame_count = cap.get(cv2.CAP_PROP_POS_FRAMES); # retrieves the current frame number\n",
    "    cntr = cntr+1;\n",
    "    if((cntr%50)==0):\n",
    "        imgH,imgW,_ = frame.shape\n",
    "        x1,y1,w1,h1, = 0,0,imgH,imgW\n",
    "        img2char = pytesseract.image_to_string(frame)\n",
    "        \n",
    "        imgbox = pytesseract.image_to_boxes(frame)\n",
    "        for boxes in imgbox.splitlines():\n",
    "            boxes = boxes.split(' ')\n",
    "            x,y,w,h = int(boxes[1]),int(boxes[2]),int(boxes[3]),int(boxes[4])\n",
    "            #image = cv2.rectangle(image, start_point, end_point, color, thickness)\n",
    "            cv2.rectangle(frame, (x,imgH-y), (w,imgH-h), (0,0,255) ,3)\n",
    "            \n",
    "                       \n",
    "        cv2.putText(frame,img2char, (x1 + int(w1/50), y1 + int(h1/50)), cv2.FONT_HERSHEY_SIMPLEX, 0.7,(0,0,255), 2)\n",
    "        cv2.imshow('Text detection tutorial', frame)\n",
    "        \n",
    "                  \n",
    "    \n",
    "        # Appending the text into file\n",
    "        file = open(\"recognized6.txt\", \"a\")        \n",
    "        file.write(str(img2char)+\"\\n\")\n",
    "           \n",
    "        # Close the file q\n",
    "        file.close\n",
    "        if cv2.waitKey(1) & 0xFF ==ord('q'):\n",
    "            break\n",
    "cap.release()\n",
    "cv2.destroyAllWindows()\n"
   ]
  },
  {
   "cell_type": "code",
   "execution_count": null,
   "id": "191dad85",
   "metadata": {},
   "outputs": [],
   "source": []
  },
  {
   "cell_type": "code",
   "execution_count": null,
   "id": "08a07700",
   "metadata": {},
   "outputs": [],
   "source": []
  },
  {
   "cell_type": "code",
   "execution_count": null,
   "id": "7101fa44",
   "metadata": {},
   "outputs": [],
   "source": []
  }
 ],
 "metadata": {
  "kernelspec": {
   "display_name": "Python 3 (ipykernel)",
   "language": "python",
   "name": "python3"
  },
  "language_info": {
   "codemirror_mode": {
    "name": "ipython",
    "version": 3
   },
   "file_extension": ".py",
   "mimetype": "text/x-python",
   "name": "python",
   "nbconvert_exporter": "python",
   "pygments_lexer": "ipython3",
   "version": "3.9.12"
  }
 },
 "nbformat": 4,
 "nbformat_minor": 5
}
