{
 "cells": [
  {
   "cell_type": "code",
   "execution_count": 6,
   "id": "29a89599",
   "metadata": {
    "executionInfo": {
     "elapsed": 987,
     "status": "ok",
     "timestamp": 1666973228341,
     "user": {
      "displayName": "RamKrishana Marri",
      "userId": "02198902215851721609"
     },
     "user_tz": -330
    },
    "id": "29a89599"
   },
   "outputs": [
    {
     "ename": "ImportError",
     "evalue": "cannot import name 'compare_ssim' from 'skimage.measure' (/home/druvan/.local/lib/python3.10/site-packages/skimage/measure/__init__.py)",
     "output_type": "error",
     "traceback": [
      "\u001b[0;31m---------------------------------------------------------------------------\u001b[0m",
      "\u001b[0;31mImportError\u001b[0m                               Traceback (most recent call last)",
      "Cell \u001b[0;32mIn[6], line 3\u001b[0m\n\u001b[1;32m      1\u001b[0m \u001b[38;5;28;01mimport\u001b[39;00m \u001b[38;5;21;01mcv2\u001b[39;00m\n\u001b[1;32m      2\u001b[0m \u001b[38;5;28;01mimport\u001b[39;00m \u001b[38;5;21;01mpytesseract\u001b[39;00m\n\u001b[0;32m----> 3\u001b[0m \u001b[38;5;28;01mfrom\u001b[39;00m \u001b[38;5;21;01mskimage\u001b[39;00m\u001b[38;5;21;01m.\u001b[39;00m\u001b[38;5;21;01mmeasure\u001b[39;00m \u001b[38;5;28;01mimport\u001b[39;00m compare_ssim \u001b[38;5;28;01mas\u001b[39;00m ssim\n",
      "\u001b[0;31mImportError\u001b[0m: cannot import name 'compare_ssim' from 'skimage.measure' (/home/druvan/.local/lib/python3.10/site-packages/skimage/measure/__init__.py)"
     ]
    }
   ],
   "source": [
    "import cv2\n",
    "import pytesseract\n",
    "from skimage.measure import compare_ssim as ssim"
   ]
  },
  {
   "cell_type": "code",
   "execution_count": 2,
   "id": "15494b36",
   "metadata": {
    "colab": {
     "base_uri": "https://localhost:8080/",
     "height": 235
    },
    "executionInfo": {
     "elapsed": 19,
     "status": "error",
     "timestamp": 1666973228343,
     "user": {
      "displayName": "RamKrishana Marri",
      "userId": "02198902215851721609"
     },
     "user_tz": -330
    },
    "id": "15494b36",
    "outputId": "6b3f55f1-3604-4ce0-abce-4a91adac98a5"
   },
   "outputs": [
    {
     "name": "stderr",
     "output_type": "stream",
     "text": [
      "/tmp/ipykernel_35156/80095045.py:12: FutureWarning: elementwise comparison failed; returning scalar instead, but in the future will perform elementwise comparison\n",
      "  if frame==frame1:\n"
     ]
    },
    {
     "ename": "ValueError",
     "evalue": "The truth value of an array with more than one element is ambiguous. Use a.any() or a.all()",
     "output_type": "error",
     "traceback": [
      "\u001b[0;31m---------------------------------------------------------------------------\u001b[0m",
      "\u001b[0;31mValueError\u001b[0m                                Traceback (most recent call last)",
      "Cell \u001b[0;32mIn[2], line 12\u001b[0m\n\u001b[1;32m     10\u001b[0m \u001b[38;5;28;01mwhile\u001b[39;00m frame_count \u001b[38;5;241m<\u001b[39m nframes\u001b[38;5;241m-\u001b[39m\u001b[38;5;241m1\u001b[39m:\n\u001b[1;32m     11\u001b[0m     ret,frame \u001b[38;5;241m=\u001b[39m cap\u001b[38;5;241m.\u001b[39mread()\n\u001b[0;32m---> 12\u001b[0m     \u001b[38;5;28;01mif\u001b[39;00m frame\u001b[38;5;241m==\u001b[39mframe1:\n\u001b[1;32m     13\u001b[0m             \u001b[38;5;28;01mcontinue\u001b[39;00m\n\u001b[1;32m     15\u001b[0m     frame1\u001b[38;5;241m=\u001b[39mframe\n",
      "\u001b[0;31mValueError\u001b[0m: The truth value of an array with more than one element is ambiguous. Use a.any() or a.all()"
     ]
    }
   ],
   "source": [
    "cap = cv2.VideoCapture(\"SampleVideo.mp4\")\n",
    "nframes = int(cap.get(cv2.CAP_PROP_FRAME_COUNT))\n",
    "if not cap.isOpened():\n",
    "    raise IOError(\"can not open\")\n",
    "    \n",
    "cntr = 0\n",
    "frame_count = 0\n",
    "img2char1=' '\n",
    "frame1 = ' '\n",
    "while frame_count < nframes-1:\n",
    "    ret,frame = cap.read()\n",
    "    if frame==frame1:\n",
    "            continue\n",
    "            \n",
    "    frame1=frame\n",
    "    frame_count = cap.get(cv2.CAP_PROP_POS_FRAMES); # retrieves the current frame number\n",
    "    cntr = cntr+1;\n",
    "    if((cntr%50)==0):\n",
    "        imgH,imgW,_ = frame.shape\n",
    "        x1,y1,w1,h1, = 0,0,imgH,imgW\n",
    "        img2char = pytesseract.image_to_string(frame)\n",
    "        \n",
    "        imgbox = pytesseract.image_to_boxes(frame)\n",
    "        for boxes in imgbox.splitlines():\n",
    "            boxes = boxes.split(' ')\n",
    "            x,y,w,h = int(boxes[1]),int(boxes[2]),int(boxes[3]),int(boxes[4])\n",
    "            #image = cv2.rectangle(image, start_point, end_point, color, thickness)\n",
    "            cv2.rectangle(frame, (x,imgH-y), (w,imgH-h), (0,0,255) ,3)\n",
    "            \n",
    "                       \n",
    "        cv2.putText(frame,img2char, (x1 + int(w1/50), y1 + int(h1/50)), cv2.FONT_HERSHEY_SIMPLEX, 0.7,(0,0,255), 2)\n",
    "        cv2.imshow('Text detection tutorial', frame)\n",
    "        \n",
    "        if img2char==img2char1:\n",
    "            continue\n",
    "            \n",
    "    \n",
    "        img2char1=img2char            \n",
    "        if cv2.waitKey(2) & 0xFF ==ord('q'):\n",
    "            break\n",
    "        #print(frame_count, nframes) \n",
    "        print(img2char1)         \n",
    "    \n",
    "        # Appending the text into file\n",
    "        file = open(\"recogTXT3.txt\", \"a+\")        \n",
    "        file.write(str(img2char1)+\"\\n\")\n",
    "           \n",
    "        # Close the file q\n",
    "        file.close\n",
    "\n",
    "cap.release()\n",
    "cv2.destroyAllWindows()\n"
   ]
  },
  {
   "cell_type": "code",
   "execution_count": null,
   "id": "X3dc4moZWaJO",
   "metadata": {
    "id": "X3dc4moZWaJO"
   },
   "outputs": [],
   "source": []
  }
 ],
 "metadata": {
  "colab": {
   "provenance": []
  },
  "kernelspec": {
   "display_name": "Python 3 (ipykernel)",
   "language": "python",
   "name": "python3"
  },
  "language_info": {
   "codemirror_mode": {
    "name": "ipython",
    "version": 3
   },
   "file_extension": ".py",
   "mimetype": "text/x-python",
   "name": "python",
   "nbconvert_exporter": "python",
   "pygments_lexer": "ipython3",
   "version": "3.10.6"
  }
 },
 "nbformat": 4,
 "nbformat_minor": 5
}
