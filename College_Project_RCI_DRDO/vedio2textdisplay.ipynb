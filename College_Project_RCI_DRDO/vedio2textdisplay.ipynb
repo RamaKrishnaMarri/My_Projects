{
 "cells": [
  {
   "cell_type": "code",
   "execution_count": 1,
   "id": "8898e1c3",
   "metadata": {},
   "outputs": [],
   "source": [
    "import pytesseract\n",
    "import cv2"
   ]
  },
  {
   "cell_type": "code",
   "execution_count": 2,
   "id": "4c08a771",
   "metadata": {},
   "outputs": [
    {
     "name": "stdout",
     "output_type": "stream",
     "text": [
      "50.0 1883\n",
      "100.0 1883\n",
      "150.0 1883\n",
      "200.0 1883\n",
      "250.0 1883\n",
      "300.0 1883\n",
      "350.0 1883\n",
      "400.0 1883\n",
      "450.0 1883\n",
      "500.0 1883\n",
      "550.0 1883\n",
      "600.0 1883\n",
      "650.0 1883\n",
      "700.0 1883\n",
      "750.0 1883\n",
      "800.0 1883\n",
      "850.0 1883\n",
      "900.0 1883\n",
      "950.0 1883\n",
      "1000.0 1883\n",
      "1050.0 1883\n",
      "1100.0 1883\n",
      "1150.0 1883\n",
      "1200.0 1883\n",
      "1250.0 1883\n",
      "1300.0 1883\n",
      "1350.0 1883\n",
      "1400.0 1883\n",
      "1450.0 1883\n",
      "1500.0 1883\n",
      "1550.0 1883\n",
      "1600.0 1883\n",
      "1650.0 1883\n",
      "1700.0 1883\n",
      "1750.0 1883\n",
      "1800.0 1883\n",
      "1850.0 1883\n"
     ]
    }
   ],
   "source": [
    "font_scale = 1.5\n",
    "font = cv2.FONT_HERSHEY_SIMPLEX\n",
    "cap = cv2.VideoCapture(\"SampleVideo.mp4\")\n",
    "nframes = int(cap.get(cv2.CAP_PROP_FRAME_COUNT))\n",
    "flag = 1\n",
    "if not cap.isOpened():\n",
    "    cap = cv2.VideoCapture(0)\n",
    "if not cap.isOpened():\n",
    "    raise IOError(\"can not open\")    \n",
    "cntr = 0\n",
    "frame_count = 0\n",
    "while frame_count < nframes-1:\n",
    "    ret,frame = cap.read()\n",
    "    frame_count = cap.get(cv2.CAP_PROP_POS_FRAMES); # retrieves the current frame number\n",
    "    cntr = cntr+1;\n",
    "    if((cntr%50)==0):\n",
    "        imgH,imgW,_ = frame.shape\n",
    "        x1,y1,w1,h1, = 0,0,imgH,imgW\n",
    "        img2char = pytesseract.image_to_string(frame)\n",
    "        \n",
    "        imgbox = pytesseract.image_to_boxes(frame)\n",
    "        for boxes in imgbox.splitlines():\n",
    "            boxes = boxes.split(' ')\n",
    "            x,y,w,h = int(boxes[1]),int(boxes[2]),int(boxes[3]),int(boxes[4])\n",
    "            #image = cv2.rectangle(image, start_point, end_point, color, thickness)\n",
    "            cv2.rectangle(frame, (x,imgH-y), (w,imgH-h), (0,0,255) ,3)\n",
    "            \n",
    "        cv2.putText(frame,img2char, (x1 + int(w1/50), y1 + int(h1/50)), cv2.FONT_HERSHEY_SIMPLEX, 0.7,(0,0,255), 2)\n",
    "      \n",
    "        cv2.imshow('Text detection tutorial', frame)\n",
    "        if cv2.waitKey(2) & 0xFF ==ord('q'):\n",
    "            break\n",
    "        print(frame_count, nframes)\n",
    "        \n",
    "cap.release()\n",
    "cv2.destroyAllWindows()\n",
    "    "
   ]
  },
  {
   "cell_type": "code",
   "execution_count": 3,
   "id": "5e701c02",
   "metadata": {},
   "outputs": [
    {
     "data": {
      "text/plain": [
       "33"
      ]
     },
     "execution_count": 3,
     "metadata": {},
     "output_type": "execute_result"
    }
   ],
   "source": []
  },
  {
   "cell_type": "code",
   "execution_count": null,
   "id": "0c1e38d1",
   "metadata": {},
   "outputs": [],
   "source": []
  }
 ],
 "metadata": {
  "kernelspec": {
   "display_name": "Python 3 (ipykernel)",
   "language": "python",
   "name": "python3"
  },
  "language_info": {
   "codemirror_mode": {
    "name": "ipython",
    "version": 3
   },
   "file_extension": ".py",
   "mimetype": "text/x-python",
   "name": "python",
   "nbconvert_exporter": "python",
   "pygments_lexer": "ipython3",
   "version": "3.9.12"
  }
 },
 "nbformat": 4,
 "nbformat_minor": 5
}
