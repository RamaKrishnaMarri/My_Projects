{
 "cells": [
  {
   "cell_type": "code",
   "execution_count": 3,
   "id": "ceb917d4",
   "metadata": {},
   "outputs": [],
   "source": [
    "\n",
    "import PIL\n",
    "from PIL import Image"
   ]
  },
  {
   "cell_type": "code",
   "execution_count": 4,
   "id": "3abcdd24",
   "metadata": {},
   "outputs": [
    {
     "name": "stdout",
     "output_type": "stream",
     "text": [
      "262x193\n"
     ]
    }
   ],
   "source": [
    "img = PIL.Image.open(\"tajm.jpg\")\n",
    "wid, hgt = img.size\n",
    "print(str(wid) + \"x\" + str(hgt))"
   ]
  },
  {
   "cell_type": "code",
   "execution_count": null,
   "id": "8889754d",
   "metadata": {},
   "outputs": [],
   "source": []
  }
 ],
 "metadata": {
  "kernelspec": {
   "display_name": "Python 3 (ipykernel)",
   "language": "python",
   "name": "python3"
  },
  "language_info": {
   "codemirror_mode": {
    "name": "ipython",
    "version": 3
   },
   "file_extension": ".py",
   "mimetype": "text/x-python",
   "name": "python",
   "nbconvert_exporter": "python",
   "pygments_lexer": "ipython3",
   "version": "3.9.7"
  }
 },
 "nbformat": 4,
 "nbformat_minor": 5
}
