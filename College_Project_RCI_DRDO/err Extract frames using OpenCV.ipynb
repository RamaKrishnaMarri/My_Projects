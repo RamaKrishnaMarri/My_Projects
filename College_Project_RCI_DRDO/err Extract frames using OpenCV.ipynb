{
 "cells": [
  {
   "cell_type": "code",
   "execution_count": 1,
   "id": "488fc3b6",
   "metadata": {},
   "outputs": [],
   "source": [
    "import cv2\n",
    "import os"
   ]
  },
  {
   "cell_type": "code",
   "execution_count": 2,
   "id": "3aa050dd",
   "metadata": {},
   "outputs": [
    {
     "ename": "SyntaxError",
     "evalue": "(unicode error) 'unicodeescape' codec can't decode bytes in position 2-3: truncated \\UXXXXXXXX escape (3420799018.py, line 17)",
     "output_type": "error",
     "traceback": [
      "\u001b[1;36m  File \u001b[1;32m\"C:\\Users\\Ramakrishna\\AppData\\Local\\Temp\\ipykernel_5356\\3420799018.py\"\u001b[1;36m, line \u001b[1;32m17\u001b[0m\n\u001b[1;33m    path = 'C:\\Users\\Ramakrishna\\images'\u001b[0m\n\u001b[1;37m                                        ^\u001b[0m\n\u001b[1;31mSyntaxError\u001b[0m\u001b[1;31m:\u001b[0m (unicode error) 'unicodeescape' codec can't decode bytes in position 2-3: truncated \\UXXXXXXXX escape\n"
     ]
    }
   ],
   "source": [
    "# Function to extract frames\n",
    "def FrameCapture(path):\n",
    "      \n",
    "    # Path to video file\n",
    "    cap = cv2.VideoCapture(path)\n",
    "  \n",
    "    # Used as counter variable\n",
    "    count = 0\n",
    "      \n",
    "    while True:\n",
    "          \n",
    "        #cap object calls read\n",
    "        # function extract frames\n",
    "        success, image =cap.read()\n",
    "  \n",
    "        # Saves the frames with frame-count\n",
    "        path = 'C:\\Users\\Ramakrishna\\images'\n",
    "        cv2.imwrite(str(path) + 'frame%d.jpg %count'  ,image)\n",
    "     \n",
    "        #cv2.imshow(\"frame%d.jpg\" %count, image)\n",
    "  \n",
    "  \n",
    "        count += 1    \n",
    "        cv2.waitKey(0)\n",
    "    \n",
    "# Driver Code\n",
    "if __name__ == '__main__':\n",
    "    # Calling the function\n",
    "    FrameCapture('SampleVideo.mp4')"
   ]
  },
  {
   "cell_type": "code",
   "execution_count": null,
   "id": "ee27a087",
   "metadata": {},
   "outputs": [],
   "source": []
  },
  {
   "cell_type": "code",
   "execution_count": null,
   "id": "ad9f7c67",
   "metadata": {},
   "outputs": [],
   "source": []
  },
  {
   "cell_type": "code",
   "execution_count": null,
   "id": "82de1da3",
   "metadata": {},
   "outputs": [],
   "source": []
  }
 ],
 "metadata": {
  "kernelspec": {
   "display_name": "Python 3 (ipykernel)",
   "language": "python",
   "name": "python3"
  },
  "language_info": {
   "codemirror_mode": {
    "name": "ipython",
    "version": 3
   },
   "file_extension": ".py",
   "mimetype": "text/x-python",
   "name": "python",
   "nbconvert_exporter": "python",
   "pygments_lexer": "ipython3",
   "version": "3.9.12"
  }
 },
 "nbformat": 4,
 "nbformat_minor": 5
}
