{
 "cells": [
  {
   "cell_type": "code",
   "execution_count": 1,
   "id": "93a1bd78",
   "metadata": {},
   "outputs": [],
   "source": [
    "import cv2\n",
    "import pytesseract\n",
    "import matplotlib.pyplot as plt"
   ]
  },
  {
   "cell_type": "code",
   "execution_count": 2,
   "id": "5f3dc5f9",
   "metadata": {},
   "outputs": [],
   "source": [
    "# Opens the inbuilt camera of laptop to capture video.\n",
    "cap = cv2.VideoCapture(0)\n",
    "i = 0\n",
    "\n",
    "while True:\n",
    "    ret, frame = cap.read()\n",
    "   \n",
    "    \n",
    "    if ret == False:\n",
    "        break\n",
    "\n",
    "    # Save Frame by Frame into disk using imwrite method\n",
    "    #cv2.imwrite('Frame'+str(i)+'.jpg', frame)\n",
    "    cv2.imshow(\"RK's Display\",frame)\n",
    "    img2char = pytesseract.image_to_string(frame, lang='eng')\n",
    "    i += 1\n",
    "    file = open(\"webcamtext10.txt\", \"a\")        \n",
    "    file.write(str(img2char)+\"\\n\")\n",
    "\n",
    "    \n",
    "    # Close the file q        \n",
    "    file.close()   \n",
    "    if ret==True:        \n",
    "        #cv2.imshow(\"RK's Display\",frame)\n",
    "        key=cv2.waitKey(20) & 0xFF\n",
    "        if key==ord('q'):\n",
    "            break\n",
    "        \n",
    "        \n",
    "cap.release()\n",
    "cv2.destroyAllWindows()"
   ]
  },
  {
   "cell_type": "code",
   "execution_count": 3,
   "id": "b3937099",
   "metadata": {},
   "outputs": [
    {
     "name": "stdout",
     "output_type": "stream",
     "text": [
      "\n"
     ]
    }
   ],
   "source": [
    "print(img2char)"
   ]
  },
  {
   "cell_type": "code",
   "execution_count": null,
   "id": "52d18430",
   "metadata": {},
   "outputs": [],
   "source": []
  }
 ],
 "metadata": {
  "kernelspec": {
   "display_name": "Python 3 (ipykernel)",
   "language": "python",
   "name": "python3"
  },
  "language_info": {
   "codemirror_mode": {
    "name": "ipython",
    "version": 3
   },
   "file_extension": ".py",
   "mimetype": "text/x-python",
   "name": "python",
   "nbconvert_exporter": "python",
   "pygments_lexer": "ipython3",
   "version": "3.9.12"
  }
 },
 "nbformat": 4,
 "nbformat_minor": 5
}
