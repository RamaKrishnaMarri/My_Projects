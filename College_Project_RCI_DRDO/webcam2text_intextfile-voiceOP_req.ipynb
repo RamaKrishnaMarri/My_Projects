{
 "cells": [
  {
   "cell_type": "code",
   "execution_count": 1,
   "id": "93a1bd78",
   "metadata": {
    "executionInfo": {
     "elapsed": 9,
     "status": "ok",
     "timestamp": 1666971633899,
     "user": {
      "displayName": "RamKrishana Marri",
      "userId": "02198902215851721609"
     },
     "user_tz": -330
    },
    "id": "93a1bd78"
   },
   "outputs": [],
   "source": [
    "import pytesseract\n",
    "import cv2\n",
    "from googletrans import Translator\n",
    "from google_speech import Speech\n",
    "\n",
    "translator =  Translator()"
   ]
  },
  {
   "cell_type": "code",
   "execution_count": 2,
   "id": "5f3dc5f9",
   "metadata": {
    "executionInfo": {
     "elapsed": 472,
     "status": "ok",
     "timestamp": 1666971661401,
     "user": {
      "displayName": "RamKrishana Marri",
      "userId": "02198902215851721609"
     },
     "user_tz": -330
    },
    "id": "5f3dc5f9"
   },
   "outputs": [
    {
     "name": "stderr",
     "output_type": "stream",
     "text": [
      "Warning: Ignoring XDG_SESSION_TYPE=wayland on Gnome. Use QT_QPA_PLATFORM=wayland to run on Wayland anyway.\n"
     ]
    },
    {
     "name": "stdout",
     "output_type": "stream",
     "text": [
      "उन्तत संष्यातमक अनुसंधान एवं विश्लेषण wt ]\n",
      "Advanced Numerical Research & Analysis Group (ANU\n",
      "रक्षा अनुसंधान एवं विकास संगठन\n",
      "Defence Reasearch & Development Organisation\n",
      "‘re scart, Fea - 500 050. MIT\n",
      "\n",
      "RAG)\n",
      "\n",
      "\n"
     ]
    },
    {
     "name": "stderr",
     "output_type": "stream",
     "text": [
      "sox WARN alsa: can't encode 0-bit Unknown or not applicable\n",
      "sox WARN alsa: can't encode 0-bit Unknown or not applicable\n",
      "sox WARN alsa: can't encode 0-bit Unknown or not applicable\n"
     ]
    },
    {
     "name": "stdout",
     "output_type": "stream",
     "text": [
      "Defence Reasearch & Development\n",
      "डाकघर कंचनवाग, हैदराबाद - 500\n",
      "\n",
      "\n"
     ]
    },
    {
     "name": "stderr",
     "output_type": "stream",
     "text": [
      "sox WARN alsa: can't encode 0-bit Unknown or not applicable\n"
     ]
    },
    {
     "name": "stdout",
     "output_type": "stream",
     "text": [
      "a अनुसंधान एवं विकास संगठन\n",
      "\n",
      "\n"
     ]
    },
    {
     "name": "stderr",
     "output_type": "stream",
     "text": [
      "sox WARN alsa: can't encode 0-bit Unknown or not applicable\n"
     ]
    },
    {
     "name": "stdout",
     "output_type": "stream",
     "text": [
      "\n",
      "\n",
      "प्त संख्यात्मक अनुर्स\n",
      "Analysis St\n",
      "\n",
      "rerical Research B\n",
      "क्षा अनुसंधान एवं\n",
      "easearch & Devel\n",
      "\n",
      "कंचनवाग, हैदराबाद\n",
      "\n",
      "vanced Num\n",
      "\n",
      "Defence Rt\n",
      "\n",
      "\n"
     ]
    },
    {
     "name": "stderr",
     "output_type": "stream",
     "text": [
      "sox WARN alsa: can't encode 0-bit Unknown or not applicable\n",
      "sox WARN alsa: can't encode 0-bit Unknown or not applicable\n"
     ]
    }
   ],
   "source": [
    "# Opens the inbuilt camera of laptop to capture video.\n",
    "cap = cv2.VideoCapture(0)\n",
    "i = 0\n",
    "\n",
    "while True:\n",
    "    ret, frame = cap.read()\n",
    "   \n",
    "    \n",
    "    if ret == False:\n",
    "        break\n",
    "\n",
    "    # Save Frame by Frame into disk using imwrite method\n",
    "    #cv2.imwrite('Frame'+str(i)+'.jpg', frame)\n",
    "    cv2.imshow(\"RK's Display\",frame)\n",
    "    img2char = pytesseract.image_to_string(frame, lang='hin+eng')\n",
    "    i += 1\n",
    "    file = open(\"webcamtext10.txt\", \"a+\")        \n",
    "    file.write(str(img2char)+\"\\n\")\n",
    "\n",
    "    \n",
    "    # Close the file q        \n",
    "    file.close()   \n",
    "    if ret==True:        \n",
    "        #cv2.imshow(\"RK's Display\",frame)\n",
    "        key=cv2.waitKey(20) & 0xFF\n",
    "        if key==ord('q'):\n",
    "            break\n",
    "        if key==ord('s'):\n",
    "            print(img2char)\n",
    "            # Save Frame by Frame into disk using imwrite method\n",
    "            #cv2.imwrite('Frame'+str(i)+'.jpg', frame)\n",
    "            speech = Speech(img2char, lang = \"en\")\n",
    "            speech.play()\n",
    "            \n",
    "        \n",
    "cap.release()\n",
    "cv2.destroyAllWindows()"
   ]
  }
 ],
 "metadata": {
  "colab": {
   "provenance": []
  },
  "kernelspec": {
   "display_name": "Python 3 (ipykernel)",
   "language": "python",
   "name": "python3"
  },
  "language_info": {
   "codemirror_mode": {
    "name": "ipython",
    "version": 3
   },
   "file_extension": ".py",
   "mimetype": "text/x-python",
   "name": "python",
   "nbconvert_exporter": "python",
   "pygments_lexer": "ipython3",
   "version": "3.10.6"
  }
 },
 "nbformat": 4,
 "nbformat_minor": 5
}
