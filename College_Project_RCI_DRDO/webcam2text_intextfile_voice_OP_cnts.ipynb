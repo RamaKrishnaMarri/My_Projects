{
 "cells": [
  {
   "cell_type": "code",
   "execution_count": 9,
   "id": "93a1bd78",
   "metadata": {
    "executionInfo": {
     "elapsed": 9,
     "status": "ok",
     "timestamp": 1666971633899,
     "user": {
      "displayName": "RamKrishana Marri",
      "userId": "02198902215851721609"
     },
     "user_tz": -330
    },
    "id": "93a1bd78"
   },
   "outputs": [],
   "source": [
    "import pytesseract\n",
    "import cv2\n",
    "from googletrans import Translator\n",
    "from google_speech import Speech\n",
    "import time"
   ]
  },
  {
   "cell_type": "code",
   "execution_count": 10,
   "id": "27de1e28",
   "metadata": {},
   "outputs": [],
   "source": [
    "translator =  Translator()"
   ]
  },
  {
   "cell_type": "code",
   "execution_count": 11,
   "id": "5f3dc5f9",
   "metadata": {
    "executionInfo": {
     "elapsed": 472,
     "status": "ok",
     "timestamp": 1666971661401,
     "user": {
      "displayName": "RamKrishana Marri",
      "userId": "02198902215851721609"
     },
     "user_tz": -330
    },
    "id": "5f3dc5f9"
   },
   "outputs": [
    {
     "name": "stderr",
     "output_type": "stream",
     "text": [
      "[ WARN:0@572.505] global cap_v4l.cpp:982 open VIDEOIO(V4L2:/dev/video0): can't open camera by index\n",
      "[ERROR:0@572.505] global obsensor_uvc_stream_channel.cpp:156 getStreamChannelGroup Camera index out of range\n"
     ]
    }
   ],
   "source": [
    "# Opens the inbuilt camera of laptop to capture video.\n",
    "time.sleep(5)\n",
    "cap = cv2.VideoCapture(0)\n",
    "i = 0\n",
    "\n",
    "while True:\n",
    "    ret, frame = cap.read()\n",
    "   \n",
    "    \n",
    "    if ret == False:\n",
    "        break\n",
    "\n",
    "    # Save Frame by Frame into disk using imwrite method\n",
    "    #cv2.imwrite('Frame'+str(i)+'.jpg', frame)\n",
    "    cv2.imshow(\"RK's Display\",frame)\n",
    "    img2char = pytesseract.image_to_string(frame, lang='eng')\n",
    "    i += 1\n",
    "    file = open(\"webcamtext10.txt\", \"a+\")        \n",
    "    file.write(str(img2char)+\"\\n\")\n",
    "\n",
    "    \n",
    "    # Close the file q        \n",
    "    file.close()   \n",
    "    if cv2.waitKey(2) & 0xFF == ord('q'):\n",
    "        break\n",
    "    print(img2char)\n",
    "    #print(frame_count, nframes)        \n",
    "    #translated = translator.translate(img2char, dest= 'fr')\n",
    "    #print(translated.text)\n",
    "    #\n",
    "    #speech = Speech(translated.text, lang = \"fr\")\n",
    "    #speech.play()\n",
    "    \n",
    "    speech = Speech(img2char, lang = \"en\")\n",
    "    speech.play()\n",
    "        \n",
    "cap.release()\n",
    "cv2.destroyAllWindows()"
   ]
  },
  {
   "cell_type": "code",
   "execution_count": null,
   "id": "6cc1917e",
   "metadata": {},
   "outputs": [],
   "source": []
  },
  {
   "cell_type": "code",
   "execution_count": null,
   "id": "daa5329a",
   "metadata": {},
   "outputs": [],
   "source": []
  }
 ],
 "metadata": {
  "colab": {
   "provenance": []
  },
  "kernelspec": {
   "display_name": "Python 3 (ipykernel)",
   "language": "python",
   "name": "python3"
  },
  "language_info": {
   "codemirror_mode": {
    "name": "ipython",
    "version": 3
   },
   "file_extension": ".py",
   "mimetype": "text/x-python",
   "name": "python",
   "nbconvert_exporter": "python",
   "pygments_lexer": "ipython3",
   "version": "3.10.6"
  }
 },
 "nbformat": 4,
 "nbformat_minor": 5
}
